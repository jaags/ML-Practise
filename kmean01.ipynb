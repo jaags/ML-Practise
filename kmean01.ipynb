{
 "cells": [
  {
   "cell_type": "code",
   "execution_count": 145,
   "metadata": {},
   "outputs": [
    {
     "name": "stdout",
     "output_type": "stream",
     "text": [
      "[2 0 2 5 4 8 2 1 4 7 9 2 5 8 9 4 8]\n",
      "[8 1 6 0 7 5 1 4 1 2 2 4 3 7 4 3 0]\n"
     ]
    }
   ],
   "source": [
    "# Clustering data set\n",
    "import numpy as np\n",
    "from sklearn.cluster import KMeans\n",
    "from sklearn import metrics\n",
    "import matplotlib.pyplot as plt\n",
    "\n",
    "X1 = np.array([3,1,1,2,1,6,6,6,5,6,7,8,9,8,9,9,8])\n",
    "X2 = np.array([5,4,6,6,5,8,6,7,6,7,1,2,1,2,3,2,3])\n",
    "\n",
    "X1 = np.random.randint(10, size=17)\n",
    "X2 = np.random.randint(10, size=17)\n",
    "\n",
    "print(X1)\n",
    "print(X2)"
   ]
  },
  {
   "cell_type": "code",
   "execution_count": 146,
   "metadata": {},
   "outputs": [
    {
     "data": {
      "image/png": "[encoded data removed]",
      "text/plain": [
       "<matplotlib.figure.Figure at 0x20f1f6abc50>"
      ]
     },
     "metadata": {},
     "output_type": "display_data"
    }
   ],
   "source": [
    "plt.plot()\n",
    "plt.xlim([0,10])\n",
    "plt.ylim([0,10])\n",
    "plt.title('Dataset')\n",
    "plt.scatter(X1, X2)\n",
    "plt.show()\n"
   ]
  },
  {
   "cell_type": "code",
   "execution_count": 168,
   "metadata": {},
   "outputs": [
    {
     "data": {
      "text/plain": [
       "array([[2, 8],\n",
       "       [0, 1],\n",
       "       [2, 6],\n",
       "       [5, 0],\n",
       "       [4, 7],\n",
       "       [8, 5],\n",
       "       [2, 1],\n",
       "       [1, 4],\n",
       "       [4, 1],\n",
       "       [7, 2],\n",
       "       [9, 2],\n",
       "       [2, 4],\n",
       "       [5, 3],\n",
       "       [8, 7],\n",
       "       [9, 4],\n",
       "       [4, 3],\n",
       "       [8, 0]])"
      ]
     },
     "execution_count": 168,
     "metadata": {},
     "output_type": "execute_result"
    }
   ],
   "source": [
    "n = zip(X1, X2)\n",
    "l = np.array(list(n))\n",
    "X = np.array(l).reshape(len(X1),2)\n",
    "X"
   ]
  },
  {
   "cell_type": "code",
   "execution_count": 148,
   "metadata": {},
   "outputs": [],
   "source": [
    "colors = ['r', 'b', 'g']\n",
    "markers = ['o','v','s']"
   ]
  },
  {
   "cell_type": "code",
   "execution_count": 154,
   "metadata": {},
   "outputs": [
    {
     "data": {
      "image/png": "[encoded data removed]",
      "text/plain": [
       "<matplotlib.figure.Figure at 0x20f1f460898>"
      ]
     },
     "metadata": {},
     "output_type": "display_data"
    }
   ],
   "source": [
    "K = 3\n",
    "kmean_model = KMeans(n_clusters = K).fit(X)\n",
    "plt.plot()\n",
    "\n",
    "\n",
    "for i, l in enumerate(kmean_model.labels_):\n",
    "    plt.plot(X1[i],X2[i], color=colors[l], marker=markers[l], ls='dotted')\n",
    "    plt.xlim([0,10])\n",
    "    plt.ylim([0,10])\n",
    "    plt.xlabel('x')\n",
    "    plt.ylabel('y')\n",
    "    plt.title('dataset')\n",
    " #   plt.legend()\n",
    "plt.show()"
   ]
  },
  {
   "cell_type": "markdown",
   "metadata": {},
   "source": [
    "# Elbow metohds of K-Means"
   ]
  },
  {
   "cell_type": "code",
   "execution_count": 139,
   "metadata": {},
   "outputs": [
    {
     "data": {
      "image/png": "[encoded data removed]",
      "text/plain": [
       "<matplotlib.figure.Figure at 0x20f1f6f5748>"
      ]
     },
     "metadata": {},
     "output_type": "display_data"
    }
   ],
   "source": [
    "from scipy.spatial.distance import cdist\n",
    "# k means determine k\n",
    "distortions = []\n",
    "K = range(1,10)\n",
    "for k in K:\n",
    "    #print('kkkkkkk', k)\n",
    "    kmeanModel = KMeans(n_clusters=k)\n",
    "    kmeanModel.fit(X)\n",
    "    \n",
    "    cdst = cdist(X, kmeanModel.cluster_centers_, 'euclidean')\n",
    "    #print('cdst', cdst)\n",
    "    min1 = np.min(cdst, axis=1)\n",
    "    #print ('min1,x.shape[0]',(min1, X.shape[0]))\n",
    "    distortions.append(sum(min1) / X.shape[0])\n",
    "    #print(distortions[k-1])\n",
    " \n",
    "# Plot the elbow\n",
    "plt.plot(K, distortions, 'bx-')\n",
    "plt.xlabel('k')\n",
    "plt.ylabel('Distortion')\n",
    "plt.title('The Elbow Method showing the optimal k')\n",
    "plt.show()"
   ]
  },
  {
   "cell_type": "code",
   "execution_count": 150,
   "metadata": {},
   "outputs": [],
   "source": [
    "plt.plot?"
   ]
  }
 ],
 "metadata": {
  "kernelspec": {
   "display_name": "Python 3",
   "language": "python",
   "name": "python3"
  },
  "language_info": {
   "codemirror_mode": {
    "name": "ipython",
    "version": 3
   },
   "file_extension": ".py",
   "mimetype": "text/x-python",
   "name": "python",
   "nbconvert_exporter": "python",
   "pygments_lexer": "ipython3",
   "version": "3.6.0"
  }
 },
 "nbformat": 4,
 "nbformat_minor": 2
}
