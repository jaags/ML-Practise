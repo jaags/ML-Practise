{
 "cells": [
  {
   "cell_type": "code",
   "execution_count": 2,
   "metadata": {},
   "outputs": [],
   "source": [
    "%matplotlib inline"
   ]
  },
  {
   "cell_type": "code",
   "execution_count": 4,
   "metadata": {},
   "outputs": [],
   "source": [
    "import sqlite3\n",
    "import numpy as np\n",
    "import pandas as pd\n",
    "import nltk\n",
    "import string\n",
    "import matplotlib.pyplot as plt"
   ]
  },
  {
   "cell_type": "code",
   "execution_count": 10,
   "metadata": {},
   "outputs": [],
   "source": [
    "from sklearn.feature_extraction.text import TfidfTransformer\n",
    "from sklearn.feature_extraction.text import CountVectorizer\n",
    "from sklearn.model_selection import train_test_split\n",
    "from sklearn.metrics import confusion_matrix\n",
    "from sklearn import metrics\n",
    "from sklearn.metrics import roc_curve, auc\n",
    "from nltk.stem.porter import PorterStemmer"
   ]
  },
  {
   "cell_type": "code",
   "execution_count": 41,
   "metadata": {},
   "outputs": [],
   "source": [
    "con = sqlite3.connect('d:\\database.sqlite')"
   ]
  },
  {
   "cell_type": "code",
   "execution_count": 42,
   "metadata": {},
   "outputs": [],
   "source": [
    "messages = pd.read_sql_query(\"\"\"SELECT Score, Summary FROM Reviews WHERE Score != 3\"\"\", con)"
   ]
  },
  {
   "cell_type": "code",
   "execution_count": 43,
   "metadata": {},
   "outputs": [
    {
     "name": "stdout",
     "output_type": "stream",
     "text": [
      "Index(['Score', 'Summary'], dtype='object')\n",
      "   Score                                        Summary\n",
      "0      5                          Good Quality Dog Food\n",
      "1      1                              Not as Advertised\n",
      "2      4                          \"Delight\" says it all\n",
      "3      2                                 Cough Medicine\n",
      "4      5                                    Great taffy\n",
      "5      4                                     Nice Taffy\n",
      "6      5  Great!  Just as good as the expensive brands!\n",
      "7      5                         Wonderful, tasty taffy\n",
      "8      5                                     Yay Barley\n",
      "9      5                               Healthy Dog Food\n",
      "               Score\n",
      "count  525814.000000\n",
      "mean        4.279148\n",
      "std         1.316725\n",
      "min         1.000000\n",
      "25%         4.000000\n",
      "50%         5.000000\n",
      "75%         5.000000\n",
      "max         5.000000\n"
     ]
    }
   ],
   "source": [
    "print(messages.keys())\n",
    "print(messages.head(10))\n",
    "print(messages.describe())"
   ]
  },
  {
   "cell_type": "code",
   "execution_count": 44,
   "metadata": {},
   "outputs": [],
   "source": [
    "def partition(x):\n",
    "    if x < 3:\n",
    "        return 'negative'\n",
    "    return 'positive'"
   ]
  },
  {
   "cell_type": "code",
   "execution_count": 45,
   "metadata": {},
   "outputs": [],
   "source": [
    "Score = messages['Score']\n",
    "Score = Score.map(partition)\n",
    "Summary = messages['Summary']\n",
    "X_train, X_test, y_train, y_test = train_test_split(Summary, Score, test_size=0.2, random_state=42)"
   ]
  },
  {
   "cell_type": "code",
   "execution_count": 46,
   "metadata": {},
   "outputs": [
    {
     "name": "stdout",
     "output_type": "stream",
     "text": [
      "       Score                                            Summary\n",
      "0   positive                              Good Quality Dog Food\n",
      "1   negative                                  Not as Advertised\n",
      "2   positive                              \"Delight\" says it all\n",
      "3   negative                                     Cough Medicine\n",
      "4   positive                                        Great taffy\n",
      "5   positive                                         Nice Taffy\n",
      "6   positive      Great!  Just as good as the expensive brands!\n",
      "7   positive                             Wonderful, tasty taffy\n",
      "8   positive                                         Yay Barley\n",
      "9   positive                                   Healthy Dog Food\n",
      "10  positive                    The Best Hot Sauce in the World\n",
      "11  positive  My cats LOVE this \"diet\" food better than thei...\n",
      "12  negative               My Cats Are Not Fans of the New Food\n",
      "13  positive                                  fresh and greasy!\n",
      "14  positive                       Strawberry Twizzlers - Yummy\n",
      "15  positive           Lots of twizzlers, just what you expect.\n",
      "16  negative                                         poor taste\n",
      "17  positive                                           Love it!\n",
      "18  positive                                 GREAT SWEET CANDY!\n",
      "19  positive                            Home delivered twizlers\n"
     ]
    }
   ],
   "source": [
    "tmp = messages\n",
    "tmp['Score'] = tmp['Score'].map(partition)\n",
    "print(tmp.head(20))"
   ]
  },
  {
   "cell_type": "code",
   "execution_count": 68,
   "metadata": {},
   "outputs": [],
   "source": [
    "stemmer = PorterStemmer()\n",
    "from nltk.corpus import stopwords\n",
    "\n",
    "def stem_tokens(tokens, stemmer):\n",
    "    stemmed = []\n",
    "    for item in tokens:\n",
    "        stemmed.append(stemmer.stem(item))\n",
    "    return stemmed\n",
    "\n",
    "def tokenize(text):\n",
    "    tokens = nltk.word_tokenize(text)\n",
    "    #tokens = [word for word in tokens if word not in stopwords.words('english')]\n",
    "    stems = stem_tokens(tokens, stemmer)\n",
    "    return ' '.join(stems)"
   ]
  },
  {
   "cell_type": "code",
   "execution_count": 48,
   "metadata": {},
   "outputs": [],
   "source": [
    "intab = string.punctuation\n",
    "outtab = \"                                \"\n",
    "trantab = str.maketrans(intab, outtab)"
   ]
  },
  {
   "cell_type": "code",
   "execution_count": 49,
   "metadata": {},
   "outputs": [],
   "source": [
    "corpus = []\n",
    "for text in X_train:\n",
    "    text = text.lower()\n",
    "    text = text.translate(trantab)\n",
    "    text=tokenize(text)\n",
    "    corpus.append(text)"
   ]
  },
  {
   "cell_type": "code",
   "execution_count": 74,
   "metadata": {},
   "outputs": [
    {
     "name": "stdout",
     "output_type": "stream",
     "text": [
      "delight say it all\n",
      "d   e   l   i   g   h   t       s   a   y       i   t       a   l   l\n"
     ]
    }
   ],
   "source": [
    "#print(X_train, y_train)\n",
    "t = tokenize(\"Delight says it all\")\n",
    "print(t)\n",
    "\n",
    "t = '   '.join(t)\n",
    "print(t)"
   ]
  },
  {
   "cell_type": "code",
   "execution_count": 78,
   "metadata": {},
   "outputs": [
    {
     "name": "stdout",
     "output_type": "stream",
     "text": [
      "CountVectorizer(analyzer='word', binary=False, decode_error='strict',\n",
      "        dtype=<class 'numpy.int64'>, encoding='utf-8', input='content',\n",
      "        lowercase=True, max_df=1.0, max_features=None, min_df=1,\n",
      "        ngram_range=(1, 1), preprocessor=None, stop_words=None,\n",
      "        strip_accents=None, token_pattern='(?u)\\\\b\\\\w\\\\w+\\\\b',\n",
      "        tokenizer=None, vocabulary=None)   (0, 3111)\t1\n",
      "  (0, 8738)\t1\n",
      "  (0, 970)\t1\n",
      "  (1, 21041)\t1\n",
      "  (1, 1134)\t1\n",
      "  (1, 7933)\t1\n",
      "  (1, 12968)\t1\n",
      "  (1, 13530)\t1\n",
      "  (1, 17174)\t1\n",
      "  (1, 20049)\t2\n",
      "  (1, 9203)\t1\n",
      "  (1, 19883)\t1\n",
      "  (1, 13433)\t1\n",
      "  (2, 18946)\t1\n",
      "  (2, 19835)\t1\n",
      "  (2, 11703)\t1\n",
      "  (2, 21463)\t1\n",
      "  (3, 19536)\t1\n",
      "  (3, 7879)\t1\n",
      "  (3, 7102)\t1\n",
      "  (4, 13914)\t1\n",
      "  (4, 7686)\t1\n",
      "  (4, 8738)\t1\n",
      "  (5, 6018)\t1\n",
      "  (5, 19830)\t1\n",
      "  :\t:\n",
      "  (420645, 19779)\t1\n",
      "  (420646, 13069)\t1\n",
      "  (420646, 7842)\t1\n",
      "  (420646, 3358)\t1\n",
      "  (420646, 20986)\t1\n",
      "  (420646, 4868)\t1\n",
      "  (420646, 8778)\t1\n",
      "  (420646, 4321)\t1\n",
      "  (420646, 1134)\t1\n",
      "  (420647, 21562)\t1\n",
      "  (420647, 15906)\t1\n",
      "  (420647, 20117)\t1\n",
      "  (420647, 1755)\t1\n",
      "  (420647, 10284)\t1\n",
      "  (420648, 21323)\t1\n",
      "  (420648, 8428)\t1\n",
      "  (420648, 20986)\t1\n",
      "  (420648, 3970)\t1\n",
      "  (420649, 19824)\t1\n",
      "  (420649, 20292)\t1\n",
      "  (420649, 13196)\t1\n",
      "  (420649, 5965)\t1\n",
      "  (420649, 11703)\t1\n",
      "  (420650, 3643)\t1\n",
      "  (420650, 18727)\t1\n"
     ]
    }
   ],
   "source": [
    "count_vect = CountVectorizer()\n",
    "X_train_counts = count_vect.fit_transform(corpus)        \n",
    "print(count_vect, X_train_counts)\n",
    "tfidf_transformer = TfidfTransformer()\n",
    "X_train_tfidf = tfidf_transformer.fit_transform(X_train_counts)\n"
   ]
  },
  {
   "cell_type": "code",
   "execution_count": 79,
   "metadata": {},
   "outputs": [
    {
     "name": "stdout",
     "output_type": "stream",
     "text": [
      "                                                    After  \\\n",
      "496497                                   almond great buy   \n",
      "225396  i never thought i d have to say no to more fru...   \n",
      "288197                                  we love thi stuff   \n",
      "88450                                  fan friggen tastic   \n",
      "354669                                    great for offic   \n",
      "331410                                what have they done   \n",
      "456920                                      cri babi tear   \n",
      "261055      good cereal with a few potenti health concern   \n",
      "295869                                       a quick meal   \n",
      "149914                                        good flavor   \n",
      "368576                                 best bbq sauc ever   \n",
      "192328                        best lemonad mix ive bought   \n",
      "123408     if you like the tast of chai you will love thi   \n",
      "114477               the best basic ramen noodl out there   \n",
      "108795                                           huge bag   \n",
      "315703                                       great experi   \n",
      "331329                                         good stuff   \n",
      "499936                                         good stuff   \n",
      "215291                                         count them   \n",
      "309777                   the best popcorn for your health   \n",
      "\n",
      "                                                   Before  \n",
      "496497                                  ALMONDS GREAT BUY  \n",
      "225396  I never thought i'd have to say no to more fru...  \n",
      "288197                                 We love this Stuff  \n",
      "88450                                  Fan-friggen-tastic  \n",
      "354669                                   Great for office  \n",
      "331410                            What have they done????  \n",
      "456920                                     Cry Baby Tears  \n",
      "261055   Good cereal with a few potential health concerns  \n",
      "295869                                       a quick meal  \n",
      "149914                                        Good flavor  \n",
      "368576                               Best BBQ Sauce EVER!  \n",
      "192328                       best lemonade mix ive bought  \n",
      "123408  If you like the taste of Chai you will love this.  \n",
      "114477              The best basic ramen noodle out there  \n",
      "108795                                           Huge Bag  \n",
      "315703                                   Great Experience  \n",
      "331329                                         good stuff  \n",
      "499936                                         Good stuff  \n",
      "215291                                       count them!!  \n",
      "309777                  The Best Popcorn for your Health!  \n"
     ]
    }
   ],
   "source": [
    "from pandas import *\n",
    "df = DataFrame({'Before': X_train, 'After': corpus})\n",
    "print(df.head(20))\n",
    "\n",
    "prediction = dict()"
   ]
  },
  {
   "cell_type": "code",
   "execution_count": null,
   "metadata": {},
   "outputs": [],
   "source": []
  }
 ],
 "metadata": {
  "kernelspec": {
   "display_name": "Python 3",
   "language": "python",
   "name": "python3"
  },
  "language_info": {
   "codemirror_mode": {
    "name": "ipython",
    "version": 3
   },
   "file_extension": ".py",
   "mimetype": "text/x-python",
   "name": "python",
   "nbconvert_exporter": "python",
   "pygments_lexer": "ipython3",
   "version": "3.5.5"
  },
  "widgets": {
   "state": {},
   "version": "1.1.2"
  }
 },
 "nbformat": 4,
 "nbformat_minor": 2
}
